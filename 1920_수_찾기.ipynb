{
  "nbformat": 4,
  "nbformat_minor": 0,
  "metadata": {
    "colab": {
      "name": "1920_수_찾기.ipynb",
      "provenance": [],
      "collapsed_sections": [],
      "authorship_tag": "ABX9TyNPVxHEpjnZhzO2xtpuPSt1",
      "include_colab_link": true
    },
    "kernelspec": {
      "name": "python3",
      "display_name": "Python 3"
    },
    "language_info": {
      "name": "python"
    }
  },
  "cells": [
    {
      "cell_type": "markdown",
      "metadata": {
        "id": "view-in-github",
        "colab_type": "text"
      },
      "source": [
        "<a href=\"https://colab.research.google.com/github/maengg/Algorithm_study/blob/main/1920_%EC%88%98_%EC%B0%BE%EA%B8%B0.ipynb\" target=\"_parent\"><img src=\"https://colab.research.google.com/assets/colab-badge.svg\" alt=\"Open In Colab\"/></a>"
      ]
    },
    {
      "cell_type": "code",
      "execution_count": 33,
      "metadata": {
        "colab": {
          "base_uri": "https://localhost:8080/"
        },
        "id": "UxMaM1Z5oZ7K",
        "outputId": "1915c03c-2f69-4cd8-db66-914523c249b3"
      },
      "outputs": [
        {
          "output_type": "stream",
          "name": "stdout",
          "text": [
            "5\n",
            "4 1 5 2 3\n",
            "5\n",
            "1 3 7 9 5\n",
            "1\n",
            "1\n",
            "0\n",
            "0\n",
            "1\n"
          ]
        }
      ],
      "source": [
        "n = int(input())\n",
        "n_list = sorted(list(map(int, input().split(' '))))\n",
        "m = int(input())\n",
        "m_list = list(map(int, input().split(' ')))\n",
        "\n",
        "def binary_search(arr, value):\n",
        "  low = 0\n",
        "  high = len(arr)-1\n",
        "  while low <= high:\n",
        "    mid = (low+high)//2\n",
        "    if arr[mid] == value:\n",
        "      return 1\n",
        "    elif arr[mid] > value:\n",
        "      high = mid-1\n",
        "    else:\n",
        "      low = mid+1\n",
        "  return 0\n",
        "\n",
        "for value in m_list:\n",
        "  print(binary_search(n_list, value))"
      ]
    }
  ]
}